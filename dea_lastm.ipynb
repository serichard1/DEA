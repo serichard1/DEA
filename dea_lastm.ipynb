{
 "cells": [
  {
   "cell_type": "code",
   "execution_count": null,
   "id": "c7ad1db2",
   "metadata": {},
   "outputs": [],
   "source": [
    "import numpy as np\n",
    "from sklearn.datasets import load_digits\n",
    "from sklearn.datasets import make_blobs\n",
    "from sklearn.manifold import trustworthiness\n",
    "from sklearn.model_selection import train_test_split\n",
    "from sklearn.preprocessing import StandardScaler\n",
    "\n",
    "import matplotlib.pyplot as plt\n",
    "import seaborn as sns\n",
    "import pandas as pd\n",
    "import itertools\n",
    "import time\n",
    "import csv\n",
    "import umap\n",
    "from scipy.spatial.distance import euclidean\n",
    "import math\n",
    "\n",
    "%matplotlib inline"
   ]
  },
  {
   "cell_type": "code",
   "execution_count": null,
   "id": "4f54dbb1",
   "metadata": {},
   "outputs": [],
   "source": [
    "def generateAlea(nbr_dimensions,nbr_variables):\n",
    "    X, _ = make_blobs(n_samples=nbr_variables, n_features=nbr_dimensions)\n",
    "    df = pd.DataFrame(X)\n",
    "    return df\n",
    "\n",
    "def localCriterion(X, X_embedded, nbr_variables):\n",
    "    T = trustworthiness(X, X_embedded, n_neighbors=int(nbr_variables/3))\n",
    "    return T\n",
    "\n",
    "def to_distance_matrix(X):\n",
    "    distance_matrix=[]\n",
    "    for i in range(len(X)):\n",
    "        for j in range(i+1,len(X)):\n",
    "            d=euclidean(X[i],X[j])\n",
    "            distance_matrix.append(d)\n",
    "    return distance_matrix\n",
    "\n",
    "def globalCriterion(X, X_embedded):\n",
    "    distX = to_distance_matrix(X)\n",
    "    distX_emb = to_distance_matrix(X_embedded)\n",
    "    R = np.corrcoef(distX, distX_emb)\n",
    "    return 1-R[0][1]**2"
   ]
  },
  {
   "cell_type": "code",
   "execution_count": null,
   "id": "b4ff4e0f",
   "metadata": {},
   "outputs": [],
   "source": [
    "with open('/home/selen/Documents/BioInfo_Master/dea/output.csv', 'w') as f:\n",
    "    writer = csv.writer(f)\n",
    "    writer.writerow([\"metrics\", \"min_param\", \"nvoisins\",\"dimensions\", \"variables\", \"time\", \"criterion1\", \"criterion2\"])"
   ]
  },
  {
   "cell_type": "code",
   "execution_count": null,
   "id": "1e10246b",
   "metadata": {},
   "outputs": [],
   "source": [
    "metrics = [\"euclidean\", \"bray-curtis\"]\n",
    "min_param = [0.1, 0.25, 0.5, 0.8]\n",
    "nVoisins_param = [3, 5, 10, 25, 70, 150]\n",
    "nbr_dimensions = [5, 10, 25, 50, 75]\n",
    "nbr_variables = [10, 25, 75, 200]\n",
    "nbr_repets = 1"
   ]
  },
  {
   "cell_type": "code",
   "execution_count": null,
   "id": "55e9c19a",
   "metadata": {},
   "outputs": [],
   "source": [
    "with open('/home/selen/Documents/BioInfo_Master/dea/output.csv', 'a') as f:\n",
    "    writer = csv.writer(f)\n",
    "    for combination in itertools.product(metrics, min_param, nVoisins_param, nbr_dimensions, nbr_variables):\n",
    "        df = generateAlea(combination[3],combination[4])\n",
    "        start_time = time.time()\n",
    "        for i in range(nbr_repets):\n",
    "            reducer = umap.UMAP(\n",
    "            n_neighbors=combination[2],\n",
    "            min_dist=combination[1],\n",
    "            n_components=2,\n",
    "            metric=combination[0]\n",
    "            )\n",
    "\n",
    "            X = StandardScaler().fit_transform(df)\n",
    "            X_embedded = reducer.fit_transform(X)\n",
    "\n",
    "            T = localCriterion(X, X_embedded, combination[4])\n",
    "            R = globalCriterion(X, X_embedded)\n",
    "\n",
    "        t = (time.time() - start_time) / 2\n",
    "        writer.writerow([combination[0], combination[1], combination[2],combination[3], combination[4], t, T, R])"
   ]
  }
 ],
 "metadata": {
  "kernelspec": {
   "display_name": "Python 3 (ipykernel)",
   "language": "python",
   "name": "python3"
  },
  "language_info": {
   "codemirror_mode": {
    "name": "ipython",
    "version": 3
   },
   "file_extension": ".py",
   "mimetype": "text/x-python",
   "name": "python",
   "nbconvert_exporter": "python",
   "pygments_lexer": "ipython3",
   "version": "3.8.10"
  }
 },
 "nbformat": 4,
 "nbformat_minor": 5
}
